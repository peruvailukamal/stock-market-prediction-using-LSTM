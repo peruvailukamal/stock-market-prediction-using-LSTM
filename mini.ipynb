{
 "cells": [
  {
   "cell_type": "code",
   "execution_count": 51,
   "id": "fd620acc",
   "metadata": {},
   "outputs": [
    {
     "data": {
      "text/html": [
       "<div>\n",
       "<style scoped>\n",
       "    .dataframe tbody tr th:only-of-type {\n",
       "        vertical-align: middle;\n",
       "    }\n",
       "\n",
       "    .dataframe tbody tr th {\n",
       "        vertical-align: top;\n",
       "    }\n",
       "\n",
       "    .dataframe thead th {\n",
       "        text-align: right;\n",
       "    }\n",
       "</style>\n",
       "<table border=\"1\" class=\"dataframe\">\n",
       "  <thead>\n",
       "    <tr style=\"text-align: right;\">\n",
       "      <th></th>\n",
       "      <th>Unnamed: 0</th>\n",
       "      <th>symbol</th>\n",
       "      <th>date</th>\n",
       "      <th>close</th>\n",
       "      <th>high</th>\n",
       "      <th>low</th>\n",
       "      <th>open</th>\n",
       "      <th>volume</th>\n",
       "      <th>adjClose</th>\n",
       "      <th>adjHigh</th>\n",
       "      <th>adjLow</th>\n",
       "      <th>adjOpen</th>\n",
       "      <th>adjVolume</th>\n",
       "      <th>divCash</th>\n",
       "      <th>splitFactor</th>\n",
       "    </tr>\n",
       "  </thead>\n",
       "  <tbody>\n",
       "    <tr>\n",
       "      <th>0</th>\n",
       "      <td>0</td>\n",
       "      <td>AAPL</td>\n",
       "      <td>2015-05-27 00:00:00+00:00</td>\n",
       "      <td>132.045</td>\n",
       "      <td>132.260</td>\n",
       "      <td>130.05</td>\n",
       "      <td>130.34</td>\n",
       "      <td>45833246</td>\n",
       "      <td>121.682558</td>\n",
       "      <td>121.880685</td>\n",
       "      <td>119.844118</td>\n",
       "      <td>120.111360</td>\n",
       "      <td>45833246</td>\n",
       "      <td>0.0</td>\n",
       "      <td>1.0</td>\n",
       "    </tr>\n",
       "    <tr>\n",
       "      <th>1</th>\n",
       "      <td>1</td>\n",
       "      <td>AAPL</td>\n",
       "      <td>2015-05-28 00:00:00+00:00</td>\n",
       "      <td>131.780</td>\n",
       "      <td>131.950</td>\n",
       "      <td>131.10</td>\n",
       "      <td>131.86</td>\n",
       "      <td>30733309</td>\n",
       "      <td>121.438354</td>\n",
       "      <td>121.595013</td>\n",
       "      <td>120.811718</td>\n",
       "      <td>121.512076</td>\n",
       "      <td>30733309</td>\n",
       "      <td>0.0</td>\n",
       "      <td>1.0</td>\n",
       "    </tr>\n",
       "    <tr>\n",
       "      <th>2</th>\n",
       "      <td>2</td>\n",
       "      <td>AAPL</td>\n",
       "      <td>2015-05-29 00:00:00+00:00</td>\n",
       "      <td>130.280</td>\n",
       "      <td>131.450</td>\n",
       "      <td>129.90</td>\n",
       "      <td>131.23</td>\n",
       "      <td>50884452</td>\n",
       "      <td>120.056069</td>\n",
       "      <td>121.134251</td>\n",
       "      <td>119.705890</td>\n",
       "      <td>120.931516</td>\n",
       "      <td>50884452</td>\n",
       "      <td>0.0</td>\n",
       "      <td>1.0</td>\n",
       "    </tr>\n",
       "    <tr>\n",
       "      <th>3</th>\n",
       "      <td>3</td>\n",
       "      <td>AAPL</td>\n",
       "      <td>2015-06-01 00:00:00+00:00</td>\n",
       "      <td>130.535</td>\n",
       "      <td>131.390</td>\n",
       "      <td>130.05</td>\n",
       "      <td>131.20</td>\n",
       "      <td>32112797</td>\n",
       "      <td>120.291057</td>\n",
       "      <td>121.078960</td>\n",
       "      <td>119.844118</td>\n",
       "      <td>120.903870</td>\n",
       "      <td>32112797</td>\n",
       "      <td>0.0</td>\n",
       "      <td>1.0</td>\n",
       "    </tr>\n",
       "    <tr>\n",
       "      <th>4</th>\n",
       "      <td>4</td>\n",
       "      <td>AAPL</td>\n",
       "      <td>2015-06-02 00:00:00+00:00</td>\n",
       "      <td>129.960</td>\n",
       "      <td>130.655</td>\n",
       "      <td>129.32</td>\n",
       "      <td>129.86</td>\n",
       "      <td>33667627</td>\n",
       "      <td>119.761181</td>\n",
       "      <td>120.401640</td>\n",
       "      <td>119.171406</td>\n",
       "      <td>119.669029</td>\n",
       "      <td>33667627</td>\n",
       "      <td>0.0</td>\n",
       "      <td>1.0</td>\n",
       "    </tr>\n",
       "  </tbody>\n",
       "</table>\n",
       "</div>"
      ],
      "text/plain": [
       "   Unnamed: 0 symbol                       date    close     high     low  \\\n",
       "0           0   AAPL  2015-05-27 00:00:00+00:00  132.045  132.260  130.05   \n",
       "1           1   AAPL  2015-05-28 00:00:00+00:00  131.780  131.950  131.10   \n",
       "2           2   AAPL  2015-05-29 00:00:00+00:00  130.280  131.450  129.90   \n",
       "3           3   AAPL  2015-06-01 00:00:00+00:00  130.535  131.390  130.05   \n",
       "4           4   AAPL  2015-06-02 00:00:00+00:00  129.960  130.655  129.32   \n",
       "\n",
       "     open    volume    adjClose     adjHigh      adjLow     adjOpen  \\\n",
       "0  130.34  45833246  121.682558  121.880685  119.844118  120.111360   \n",
       "1  131.86  30733309  121.438354  121.595013  120.811718  121.512076   \n",
       "2  131.23  50884452  120.056069  121.134251  119.705890  120.931516   \n",
       "3  131.20  32112797  120.291057  121.078960  119.844118  120.903870   \n",
       "4  129.86  33667627  119.761181  120.401640  119.171406  119.669029   \n",
       "\n",
       "   adjVolume  divCash  splitFactor  \n",
       "0   45833246      0.0          1.0  \n",
       "1   30733309      0.0          1.0  \n",
       "2   50884452      0.0          1.0  \n",
       "3   32112797      0.0          1.0  \n",
       "4   33667627      0.0          1.0  "
      ]
     },
     "execution_count": 51,
     "metadata": {},
     "output_type": "execute_result"
    }
   ],
   "source": [
    "import pandas as pd\n",
    "df=pd.read_csv('AAPL.csv')\n",
    "df.head()"
   ]
  },
  {
   "cell_type": "code",
   "execution_count": 52,
   "id": "20632926",
   "metadata": {},
   "outputs": [
    {
     "data": {
      "text/plain": [
       "0       132.260\n",
       "1       131.950\n",
       "2       131.450\n",
       "3       131.390\n",
       "4       130.655\n",
       "         ...   \n",
       "1253    316.500\n",
       "1254    318.520\n",
       "1255    319.520\n",
       "1256    320.890\n",
       "1257    319.230\n",
       "Name: high, Length: 1258, dtype: float64"
      ]
     },
     "execution_count": 52,
     "metadata": {},
     "output_type": "execute_result"
    }
   ],
   "source": [
    "df1=df.reset_index()['high']\n",
    "df1"
   ]
  },
  {
   "cell_type": "code",
   "execution_count": 89,
   "id": "acbc8060",
   "metadata": {},
   "outputs": [
    {
     "data": {
      "text/plain": [
       "[<matplotlib.lines.Line2D at 0x7fdb46b53940>]"
      ]
     },
     "execution_count": 89,
     "metadata": {},
     "output_type": "execute_result"
    },
    {
     "data": {
      "image/png": "[encoded data removed]",
      "text/plain": [
       "<Figure size 432x288 with 1 Axes>"
      ]
     },
     "metadata": {
      "needs_background": "light"
     },
     "output_type": "display_data"
    }
   ],
   "source": [
    "import matplotlib.pyplot as plt\n",
    "plt.plot(df1,color='g',marker='o',markerfacecolor='black')\n"
   ]
  },
  {
   "cell_type": "code",
   "execution_count": 91,
   "id": "cbc85542",
   "metadata": {},
   "outputs": [
    {
     "data": {
      "text/plain": [
       "[<matplotlib.lines.Line2D at 0x7fdb46b37198>]"
      ]
     },
     "execution_count": 91,
     "metadata": {},
     "output_type": "execute_result"
    },
    {
     "data": {
      "image/png": "[encoded data removed]",
      "text/plain": [
       "<Figure size 432x288 with 1 Axes>"
      ]
     },
     "metadata": {
      "needs_background": "light"
     },
     "output_type": "display_data"
    }
   ],
   "source": [
    "df2=df['close']\n",
    "plt.plot(df2)"
   ]
  },
  {
   "cell_type": "code",
   "execution_count": 54,
   "id": "d012c954",
   "metadata": {},
   "outputs": [],
   "source": [
    "from sklearn.preprocessing import MinMaxScaler\n",
    "scaler=MinMaxScaler(feature_range=(0,1))\n",
    "df1=scaler.fit_transform(np.array(df1).reshape(-1,1))"
   ]
  },
  {
   "cell_type": "code",
   "execution_count": 55,
   "id": "d9f84aae",
   "metadata": {},
   "outputs": [
    {
     "data": {
      "text/plain": [
       "array([[0.17186045],\n",
       "       [0.17054789],\n",
       "       [0.16843086],\n",
       "       ...,\n",
       "       [0.96473029],\n",
       "       [0.97053095],\n",
       "       [0.96350241]])"
      ]
     },
     "execution_count": 55,
     "metadata": {},
     "output_type": "execute_result"
    }
   ],
   "source": [
    "import numpy as np\n",
    "df1"
   ]
  },
  {
   "cell_type": "code",
   "execution_count": 56,
   "id": "319b8051",
   "metadata": {},
   "outputs": [
    {
     "data": {
      "text/plain": [
       "(817, 441)"
      ]
     },
     "execution_count": 56,
     "metadata": {},
     "output_type": "execute_result"
    }
   ],
   "source": [
    "training_size=int(len(df1)*0.65)\n",
    "test_size=len(df1)-training_size\n",
    "train_data,test_data=df1[0:training_size,:],df1[training_size:len(df1),:1]\n",
    "training_size,test_size\n"
   ]
  },
  {
   "cell_type": "code",
   "execution_count": 57,
   "id": "ac3e9f04",
   "metadata": {},
   "outputs": [],
   "source": [
    "##splitting dataset into train and test split\n",
    "training_size=int(len(df1)*0.65)\n",
    "test_size=len(df1)-training_size\n",
    "train_data,test_data=df1[0:training_size,:],df1[training_size:len(df1),:1]"
   ]
  },
  {
   "cell_type": "code",
   "execution_count": 58,
   "id": "ac95ab22",
   "metadata": {},
   "outputs": [
    {
     "data": {
      "text/plain": [
       "(817, 441)"
      ]
     },
     "execution_count": 58,
     "metadata": {},
     "output_type": "execute_result"
    }
   ],
   "source": [
    "training_size,test_size\n"
   ]
  },
  {
   "cell_type": "code",
   "execution_count": 59,
   "id": "90528def",
   "metadata": {},
   "outputs": [],
   "source": [
    "import numpy\n",
    "# convert an array of values into a dataset matrix\n",
    "def create_dataset(dataset, time_step=1):\n",
    "\tdataX, dataY = [], []\n",
    "\tfor i in range(len(dataset)-time_step-1):\n",
    "\t\ta = dataset[i:(i+time_step), 0]   ###i=0, X=0,1,2,3-----99   Y=100 \n",
    "\t\tdataX.append(a)\n",
    "\t\tdataY.append(dataset[i + time_step, 0])\n",
    "\treturn numpy.array(dataX), numpy.array(dataY)"
   ]
  },
  {
   "cell_type": "code",
   "execution_count": 60,
   "id": "b09f3a89",
   "metadata": {},
   "outputs": [],
   "source": [
    "time_step = 100\n",
    "X_train, y_train = create_dataset(train_data, time_step)\n",
    "X_test, ytest = create_dataset(test_data, time_step)"
   ]
  },
  {
   "cell_type": "code",
   "execution_count": 61,
   "id": "ab781d68",
   "metadata": {},
   "outputs": [
    {
     "name": "stdout",
     "output_type": "stream",
     "text": [
      "(716, 100)\n",
      "(716,)\n"
     ]
    },
    {
     "data": {
      "text/plain": [
       "(None, None)"
      ]
     },
     "execution_count": 61,
     "metadata": {},
     "output_type": "execute_result"
    }
   ],
   "source": [
    "print(X_train.shape), print(y_train.shape)\n"
   ]
  },
  {
   "cell_type": "code",
   "execution_count": 62,
   "id": "1241e534",
   "metadata": {},
   "outputs": [
    {
     "name": "stdout",
     "output_type": "stream",
     "text": [
      "(340, 100)\n",
      "(340,)\n"
     ]
    },
    {
     "data": {
      "text/plain": [
       "(None, None)"
      ]
     },
     "execution_count": 62,
     "metadata": {},
     "output_type": "execute_result"
    }
   ],
   "source": [
    "print(X_test.shape), print(ytest.shape)\n"
   ]
  },
  {
   "cell_type": "code",
   "execution_count": 64,
   "id": "6a602cad",
   "metadata": {},
   "outputs": [],
   "source": [
    "# reshape input to be [samples, time steps, features] which is required for LSTM\n",
    "X_train =X_train.reshape(X_train.shape[0],X_train.shape[1] , 1)\n",
    "X_test = X_test.reshape(X_test.shape[0],X_test.shape[1] , 1)"
   ]
  },
  {
   "cell_type": "code",
   "execution_count": 65,
   "id": "d422c12d",
   "metadata": {},
   "outputs": [],
   "source": [
    "### Create the Stacked LSTM model\n",
    "from tensorflow.keras.models import Sequential\n",
    "from tensorflow.keras.layers import Dense\n",
    "from tensorflow.keras.layers import LSTM"
   ]
  },
  {
   "cell_type": "code",
   "execution_count": 66,
   "id": "7f629adf",
   "metadata": {},
   "outputs": [],
   "source": [
    "model=Sequential()\n",
    "model.add(LSTM(50,return_sequences=True,input_shape=(100,1)))\n",
    "model.add(LSTM(50,return_sequences=True))\n",
    "model.add(LSTM(50))\n",
    "model.add(Dense(1))\n",
    "model.compile(loss='mean_squared_error',optimizer='adam')"
   ]
  },
  {
   "cell_type": "code",
   "execution_count": 67,
   "id": "75d80268",
   "metadata": {},
   "outputs": [
    {
     "name": "stdout",
     "output_type": "stream",
     "text": [
      "Model: \"sequential\"\n",
      "_________________________________________________________________\n",
      "Layer (type)                 Output Shape              Param #   \n",
      "=================================================================\n",
      "lstm (LSTM)                  (None, 100, 50)           10400     \n",
      "_________________________________________________________________\n",
      "lstm_1 (LSTM)                (None, 100, 50)           20200     \n",
      "_________________________________________________________________\n",
      "lstm_2 (LSTM)                (None, 50)                20200     \n",
      "_________________________________________________________________\n",
      "dense (Dense)                (None, 1)                 51        \n",
      "=================================================================\n",
      "Total params: 50,851\n",
      "Trainable params: 50,851\n",
      "Non-trainable params: 0\n",
      "_________________________________________________________________\n"
     ]
    }
   ],
   "source": [
    "model.summary()\n"
   ]
  },
  {
   "cell_type": "code",
   "execution_count": 68,
   "id": "8ad790da",
   "metadata": {},
   "outputs": [
    {
     "name": "stdout",
     "output_type": "stream",
     "text": [
      "Train on 716 samples, validate on 340 samples\n",
      "Epoch 1/100\n",
      "716/716 [==============================] - 19s 26ms/sample - loss: 0.0159 - val_loss: 0.0616\n",
      "Epoch 2/100\n",
      "716/716 [==============================] - 5s 7ms/sample - loss: 0.0038 - val_loss: 0.0045\n",
      "Epoch 3/100\n",
      "716/716 [==============================] - 5s 7ms/sample - loss: 0.0013 - val_loss: 0.0050\n",
      "Epoch 4/100\n",
      "716/716 [==============================] - 5s 7ms/sample - loss: 8.7147e-04 - val_loss: 0.0036\n",
      "Epoch 5/100\n",
      "716/716 [==============================] - 5s 7ms/sample - loss: 6.2652e-04 - val_loss: 0.0047\n",
      "Epoch 6/100\n",
      "716/716 [==============================] - 5s 7ms/sample - loss: 5.9116e-04 - val_loss: 0.0035\n",
      "Epoch 7/100\n",
      "716/716 [==============================] - 5s 7ms/sample - loss: 5.6031e-04 - val_loss: 0.0033\n",
      "Epoch 8/100\n",
      "716/716 [==============================] - 5s 7ms/sample - loss: 6.1027e-04 - val_loss: 0.0030\n",
      "Epoch 9/100\n",
      "716/716 [==============================] - 5s 7ms/sample - loss: 5.9017e-04 - val_loss: 0.0030\n",
      "Epoch 10/100\n",
      "716/716 [==============================] - 5s 7ms/sample - loss: 5.7017e-04 - val_loss: 0.0030\n",
      "Epoch 11/100\n",
      "716/716 [==============================] - 5s 7ms/sample - loss: 5.5509e-04 - val_loss: 0.0029\n",
      "Epoch 12/100\n",
      "716/716 [==============================] - 5s 7ms/sample - loss: 5.3491e-04 - val_loss: 0.0034\n",
      "Epoch 13/100\n",
      "716/716 [==============================] - 5s 7ms/sample - loss: 5.7065e-04 - val_loss: 0.0029\n",
      "Epoch 14/100\n",
      "716/716 [==============================] - 5s 7ms/sample - loss: 5.1002e-04 - val_loss: 0.0027\n",
      "Epoch 15/100\n",
      "716/716 [==============================] - 5s 6ms/sample - loss: 5.2132e-04 - val_loss: 0.0027\n",
      "Epoch 16/100\n",
      "716/716 [==============================] - 5s 7ms/sample - loss: 4.9010e-04 - val_loss: 0.0026\n",
      "Epoch 17/100\n",
      "716/716 [==============================] - 5s 7ms/sample - loss: 5.0019e-04 - val_loss: 0.0033\n",
      "Epoch 18/100\n",
      "716/716 [==============================] - 5s 6ms/sample - loss: 5.4273e-04 - val_loss: 0.0025\n",
      "Epoch 19/100\n",
      "716/716 [==============================] - 5s 7ms/sample - loss: 4.7341e-04 - val_loss: 0.0024\n",
      "Epoch 20/100\n",
      "716/716 [==============================] - 5s 7ms/sample - loss: 4.6562e-04 - val_loss: 0.0025\n",
      "Epoch 21/100\n",
      "716/716 [==============================] - 5s 7ms/sample - loss: 4.7337e-04 - val_loss: 0.0023\n",
      "Epoch 22/100\n",
      "716/716 [==============================] - 6s 8ms/sample - loss: 4.7446e-04 - val_loss: 0.0023\n",
      "Epoch 23/100\n",
      "716/716 [==============================] - 6s 8ms/sample - loss: 4.6329e-04 - val_loss: 0.0022\n",
      "Epoch 24/100\n",
      "716/716 [==============================] - 6s 9ms/sample - loss: 4.5289e-04 - val_loss: 0.0021\n",
      "Epoch 25/100\n",
      "716/716 [==============================] - 6s 9ms/sample - loss: 4.6733e-04 - val_loss: 0.0021\n",
      "Epoch 26/100\n",
      "716/716 [==============================] - 6s 8ms/sample - loss: 4.4357e-04 - val_loss: 0.0026\n",
      "Epoch 27/100\n",
      "716/716 [==============================] - 6s 8ms/sample - loss: 4.5666e-04 - val_loss: 0.0022\n",
      "Epoch 28/100\n",
      "716/716 [==============================] - 6s 8ms/sample - loss: 4.3290e-04 - val_loss: 0.0019\n",
      "Epoch 29/100\n",
      "716/716 [==============================] - 6s 9ms/sample - loss: 4.2946e-04 - val_loss: 0.0020\n",
      "Epoch 30/100\n",
      "716/716 [==============================] - 6s 8ms/sample - loss: 4.0833e-04 - val_loss: 0.0019\n",
      "Epoch 31/100\n",
      "716/716 [==============================] - 6s 8ms/sample - loss: 4.0290e-04 - val_loss: 0.0017\n",
      "Epoch 32/100\n",
      "716/716 [==============================] - 6s 8ms/sample - loss: 3.8080e-04 - val_loss: 0.0017\n",
      "Epoch 33/100\n",
      "716/716 [==============================] - 6s 8ms/sample - loss: 3.7208e-04 - val_loss: 0.0017\n",
      "Epoch 34/100\n",
      "716/716 [==============================] - 6s 8ms/sample - loss: 3.7699e-04 - val_loss: 0.0016\n",
      "Epoch 35/100\n",
      "716/716 [==============================] - 6s 9ms/sample - loss: 3.6192e-04 - val_loss: 0.0018\n",
      "Epoch 36/100\n",
      "716/716 [==============================] - 6s 8ms/sample - loss: 4.0253e-04 - val_loss: 0.0014\n",
      "Epoch 37/100\n",
      "716/716 [==============================] - 6s 8ms/sample - loss: 3.5547e-04 - val_loss: 0.0014\n",
      "Epoch 38/100\n",
      "716/716 [==============================] - 6s 8ms/sample - loss: 3.5169e-04 - val_loss: 0.0016\n",
      "Epoch 39/100\n",
      "716/716 [==============================] - 6s 8ms/sample - loss: 3.4578e-04 - val_loss: 0.0021\n",
      "Epoch 40/100\n",
      "716/716 [==============================] - 6s 8ms/sample - loss: 3.7454e-04 - val_loss: 0.0013\n",
      "Epoch 41/100\n",
      "716/716 [==============================] - 6s 8ms/sample - loss: 3.2713e-04 - val_loss: 0.0013\n",
      "Epoch 42/100\n",
      "716/716 [==============================] - 5s 7ms/sample - loss: 3.3238e-04 - val_loss: 0.0013\n",
      "Epoch 43/100\n",
      "716/716 [==============================] - 5s 6ms/sample - loss: 3.2344e-04 - val_loss: 0.0012\n",
      "Epoch 44/100\n",
      "716/716 [==============================] - 5s 6ms/sample - loss: 3.0883e-04 - val_loss: 0.0013\n",
      "Epoch 45/100\n",
      "716/716 [==============================] - 5s 6ms/sample - loss: 3.1852e-04 - val_loss: 0.0013\n",
      "Epoch 46/100\n",
      "716/716 [==============================] - 5s 6ms/sample - loss: 3.6001e-04 - val_loss: 0.0012\n",
      "Epoch 47/100\n",
      "716/716 [==============================] - 4s 6ms/sample - loss: 4.0828e-04 - val_loss: 0.0012\n",
      "Epoch 48/100\n",
      "716/716 [==============================] - 4s 6ms/sample - loss: 2.9783e-04 - val_loss: 0.0012\n",
      "Epoch 49/100\n",
      "716/716 [==============================] - 4s 6ms/sample - loss: 2.8926e-04 - val_loss: 0.0011\n",
      "Epoch 50/100\n",
      "716/716 [==============================] - 4s 6ms/sample - loss: 2.9639e-04 - val_loss: 0.0013\n",
      "Epoch 51/100\n",
      "716/716 [==============================] - 5s 6ms/sample - loss: 3.0771e-04 - val_loss: 0.0011\n",
      "Epoch 52/100\n",
      "716/716 [==============================] - 5s 6ms/sample - loss: 2.7985e-04 - val_loss: 0.0012\n",
      "Epoch 53/100\n",
      "716/716 [==============================] - 5s 6ms/sample - loss: 2.7533e-04 - val_loss: 0.0011\n",
      "Epoch 54/100\n",
      "716/716 [==============================] - 5s 6ms/sample - loss: 2.7771e-04 - val_loss: 0.0019\n",
      "Epoch 55/100\n",
      "716/716 [==============================] - 5s 6ms/sample - loss: 2.9225e-04 - val_loss: 0.0011\n",
      "Epoch 56/100\n",
      "716/716 [==============================] - 5s 6ms/sample - loss: 3.0337e-04 - val_loss: 0.0014\n",
      "Epoch 57/100\n",
      "716/716 [==============================] - 4s 6ms/sample - loss: 2.7136e-04 - val_loss: 0.0011\n",
      "Epoch 58/100\n",
      "716/716 [==============================] - 5s 6ms/sample - loss: 2.6542e-04 - val_loss: 0.0010\n",
      "Epoch 59/100\n",
      "716/716 [==============================] - 5s 6ms/sample - loss: 2.8034e-04 - val_loss: 0.0011\n",
      "Epoch 60/100\n",
      "716/716 [==============================] - 5s 7ms/sample - loss: 2.5645e-04 - val_loss: 0.0013\n",
      "Epoch 61/100\n",
      "716/716 [==============================] - 5s 6ms/sample - loss: 2.7480e-04 - val_loss: 0.0011\n",
      "Epoch 62/100\n",
      "716/716 [==============================] - 5s 6ms/sample - loss: 2.8967e-04 - val_loss: 0.0026\n",
      "Epoch 63/100\n",
      "716/716 [==============================] - 5s 6ms/sample - loss: 3.0341e-04 - val_loss: 0.0010\n",
      "Epoch 64/100\n",
      "716/716 [==============================] - 4s 6ms/sample - loss: 2.5870e-04 - val_loss: 0.0011\n",
      "Epoch 65/100\n",
      "716/716 [==============================] - 4s 6ms/sample - loss: 2.4458e-04 - val_loss: 0.0012\n",
      "Epoch 66/100\n",
      "716/716 [==============================] - 5s 6ms/sample - loss: 2.3229e-04 - val_loss: 0.0014\n",
      "Epoch 67/100\n",
      "716/716 [==============================] - 5s 7ms/sample - loss: 2.3373e-04 - val_loss: 9.8499e-04\n",
      "Epoch 68/100\n",
      "716/716 [==============================] - 4s 6ms/sample - loss: 2.2819e-04 - val_loss: 0.0020\n",
      "Epoch 69/100\n",
      "716/716 [==============================] - 5s 6ms/sample - loss: 2.6722e-04 - val_loss: 9.8968e-04\n",
      "Epoch 70/100\n",
      "716/716 [==============================] - 5s 6ms/sample - loss: 2.3387e-04 - val_loss: 0.0014\n",
      "Epoch 71/100\n",
      "716/716 [==============================] - 5s 6ms/sample - loss: 2.4680e-04 - val_loss: 9.5763e-04\n",
      "Epoch 72/100\n",
      "716/716 [==============================] - 5s 7ms/sample - loss: 2.2902e-04 - val_loss: 9.4876e-04\n",
      "Epoch 73/100\n",
      "716/716 [==============================] - 5s 7ms/sample - loss: 2.8663e-04 - val_loss: 0.0028\n",
      "Epoch 74/100\n",
      "716/716 [==============================] - 5s 6ms/sample - loss: 3.3421e-04 - val_loss: 0.0019\n",
      "Epoch 75/100\n",
      "716/716 [==============================] - 5s 6ms/sample - loss: 3.0111e-04 - val_loss: 0.0024\n",
      "Epoch 76/100\n",
      "716/716 [==============================] - 5s 6ms/sample - loss: 2.3126e-04 - val_loss: 9.6462e-04\n",
      "Epoch 77/100\n",
      "716/716 [==============================] - 5s 6ms/sample - loss: 2.1446e-04 - val_loss: 0.0015\n",
      "Epoch 78/100\n",
      "716/716 [==============================] - 5s 6ms/sample - loss: 2.3137e-04 - val_loss: 9.4057e-04\n",
      "Epoch 79/100\n",
      "716/716 [==============================] - 5s 6ms/sample - loss: 2.0070e-04 - val_loss: 9.0098e-04\n",
      "Epoch 80/100\n",
      "716/716 [==============================] - 5s 6ms/sample - loss: 2.1446e-04 - val_loss: 0.0011\n",
      "Epoch 81/100\n",
      "716/716 [==============================] - 5s 6ms/sample - loss: 1.9122e-04 - val_loss: 0.0011\n",
      "Epoch 82/100\n",
      "716/716 [==============================] - 5s 6ms/sample - loss: 2.0075e-04 - val_loss: 0.0013\n",
      "Epoch 83/100\n",
      "716/716 [==============================] - 5s 6ms/sample - loss: 1.9075e-04 - val_loss: 9.6180e-04\n",
      "Epoch 84/100\n",
      "716/716 [==============================] - 5s 6ms/sample - loss: 1.9400e-04 - val_loss: 8.8253e-04\n",
      "Epoch 85/100\n",
      "716/716 [==============================] - 5s 7ms/sample - loss: 1.8371e-04 - val_loss: 9.3642e-04\n",
      "Epoch 86/100\n",
      "716/716 [==============================] - 5s 6ms/sample - loss: 1.9056e-04 - val_loss: 0.0018\n",
      "Epoch 87/100\n",
      "716/716 [==============================] - 5s 6ms/sample - loss: 2.1234e-04 - val_loss: 0.0012\n",
      "Epoch 88/100\n",
      "716/716 [==============================] - 5s 7ms/sample - loss: 1.7553e-04 - val_loss: 8.5223e-04\n",
      "Epoch 89/100\n",
      "716/716 [==============================] - 5s 7ms/sample - loss: 1.7143e-04 - val_loss: 0.0011\n",
      "Epoch 90/100\n",
      "716/716 [==============================] - 5s 6ms/sample - loss: 2.0786e-04 - val_loss: 0.0011\n",
      "Epoch 91/100\n",
      "716/716 [==============================] - 5s 6ms/sample - loss: 1.6499e-04 - val_loss: 8.7290e-04\n",
      "Epoch 92/100\n",
      "716/716 [==============================] - 5s 7ms/sample - loss: 1.6049e-04 - val_loss: 8.7822e-04\n",
      "Epoch 93/100\n",
      "716/716 [==============================] - 5s 6ms/sample - loss: 1.5823e-04 - val_loss: 0.0012\n",
      "Epoch 94/100\n",
      "716/716 [==============================] - 5s 6ms/sample - loss: 1.7284e-04 - val_loss: 8.6364e-04\n",
      "Epoch 95/100\n",
      "716/716 [==============================] - 5s 6ms/sample - loss: 1.5963e-04 - val_loss: 0.0012\n",
      "Epoch 96/100\n",
      "716/716 [==============================] - 5s 6ms/sample - loss: 1.5533e-04 - val_loss: 8.9159e-04\n",
      "Epoch 97/100\n",
      "716/716 [==============================] - 5s 7ms/sample - loss: 1.5078e-04 - val_loss: 9.8770e-04\n",
      "Epoch 98/100\n",
      "716/716 [==============================] - 5s 6ms/sample - loss: 1.5207e-04 - val_loss: 9.7579e-04\n",
      "Epoch 99/100\n",
      "716/716 [==============================] - 5s 6ms/sample - loss: 1.5015e-04 - val_loss: 8.9375e-04\n",
      "Epoch 100/100\n",
      "716/716 [==============================] - 5s 7ms/sample - loss: 1.5415e-04 - val_loss: 0.0011\n"
     ]
    },
    {
     "data": {
      "text/plain": [
       "<tensorflow.python.keras.callbacks.History at 0x7fdc3064d080>"
      ]
     },
     "execution_count": 68,
     "metadata": {},
     "output_type": "execute_result"
    }
   ],
   "source": [
    "model.fit(X_train,y_train,validation_data=(X_test,ytest),epochs=100,batch_size=64,verbose=1)\n"
   ]
  },
  {
   "cell_type": "code",
   "execution_count": 70,
   "id": "f82c2370",
   "metadata": {},
   "outputs": [],
   "source": [
    "import tensorflow as tf\n",
    "### Lets Do the prediction and check performance metrics\n",
    "train_predict=model.predict(X_train)\n",
    "test_predict=model.predict(X_test)"
   ]
  },
  {
   "cell_type": "code",
   "execution_count": 71,
   "id": "e85f76c3",
   "metadata": {},
   "outputs": [],
   "source": [
    "### Lets Do the prediction and check performance metrics\n",
    "train_predict=model.predict(X_train)\n",
    "test_predict=model.predict(X_test)"
   ]
  },
  {
   "cell_type": "code",
   "execution_count": 86,
   "id": "f66072f4",
   "metadata": {},
   "outputs": [
    {
     "data": {
      "text/plain": [
       "0.9926329008673782"
      ]
     },
     "execution_count": 86,
     "metadata": {},
     "output_type": "execute_result"
    }
   ],
   "source": [
    "import math\n",
    "from sklearn.metrics import mean_squared_error,r2_score\n",
    "r2_score(y_train,train_predict)\n"
   ]
  },
  {
   "cell_type": "code",
   "execution_count": 73,
   "id": "5529ee7f",
   "metadata": {},
   "outputs": [
    {
     "data": {
      "image/png": "[encoded data removed]",
      "text/plain": [
       "<Figure size 432x288 with 1 Axes>"
      ]
     },
     "metadata": {
      "needs_background": "light"
     },
     "output_type": "display_data"
    }
   ],
   "source": [
    "### Plotting \n",
    "# shift train predictions for plotting\n",
    "look_back=100\n",
    "trainPredictPlot = numpy.empty_like(df1)\n",
    "trainPredictPlot[:, :] = np.nan\n",
    "trainPredictPlot[look_back:len(train_predict)+look_back, :] = train_predict\n",
    "# shift test predictions for plotting\n",
    "testPredictPlot = numpy.empty_like(df1)\n",
    "testPredictPlot[:, :] = numpy.nan\n",
    "testPredictPlot[len(train_predict)+(look_back*2)+1:len(df1)-1, :] = test_predict\n",
    "# plot baseline and predictions\n",
    "plt.plot(scaler.inverse_transform(df1))\n",
    "plt.plot(trainPredictPlot)\n",
    "plt.plot(testPredictPlot)\n",
    "plt.show()"
   ]
  },
  {
   "cell_type": "code",
   "execution_count": 74,
   "id": "1b933a13",
   "metadata": {},
   "outputs": [
    {
     "data": {
      "text/plain": [
       "(1, 100)"
      ]
     },
     "execution_count": 74,
     "metadata": {},
     "output_type": "execute_result"
    }
   ],
   "source": [
    "x_input=test_data[341:].reshape(1,-1)\n",
    "x_input.shape"
   ]
  },
  {
   "cell_type": "code",
   "execution_count": 79,
   "id": "b2b54d7a",
   "metadata": {},
   "outputs": [],
   "source": [
    "temp_input=list(x_input)\n",
    "temp_input=temp_input[0].tolist()"
   ]
  },
  {
   "cell_type": "code",
   "execution_count": 80,
   "id": "4e4c785a",
   "metadata": {},
   "outputs": [
    {
     "name": "stdout",
     "output_type": "stream",
     "text": [
      "[1.0189062]\n",
      "101\n",
      "1 day input [0.8846219  0.88453722 0.8819121  0.88589212 0.90088026 0.9262427\n",
      " 0.93572699 0.95435685 0.95647388 0.94770937 0.94855619 0.96142772\n",
      " 0.96261326 0.9667203  0.96489965 0.98086205 0.93191633 0.95998814\n",
      " 1.         0.98407994 0.97810992 0.93919892 0.96523838 0.98691676\n",
      " 0.98886443 0.98115844 0.97332543 0.98327547 0.99733254 0.99309848\n",
      " 0.99208231 0.96570412 0.98611229 0.98645101 0.96866797 0.89977983\n",
      " 0.89279363 0.87310526 0.82280464 0.79066813 0.88817851 0.8990177\n",
      " 0.89647726 0.88017614 0.8432128  0.78931324 0.82466763 0.80256584\n",
      " 0.7550597  0.79706156 0.70882378 0.70259971 0.67037852 0.68240325\n",
      " 0.67812685 0.57934499 0.66059785 0.70530951 0.70713015 0.69523245\n",
      " 0.69375053 0.72326192 0.66495893 0.64984334 0.65217207 0.72588704\n",
      " 0.7622576  0.74392413 0.75535608 0.77072572 0.83233127 0.82420188\n",
      " 0.83210898 0.82680583 0.80451351 0.78575663 0.78850876 0.80480989\n",
      " 0.8101448  0.81662291 0.82208485 0.83834364 0.85892116 0.8778474\n",
      " 0.85536455 0.88631552 0.89579981 0.90397155 0.92590397 0.95427217\n",
      " 0.96544161 0.9496147  0.9235329  0.91553053 0.95194343 0.96049623\n",
      " 0.96473029 0.97053095 0.96350241 1.01890624]\n",
      "1 day output [[1.0308857]]\n",
      "2 day input [0.88453722 0.8819121  0.88589212 0.90088026 0.9262427  0.93572699\n",
      " 0.95435685 0.95647388 0.94770937 0.94855619 0.96142772 0.96261326\n",
      " 0.9667203  0.96489965 0.98086205 0.93191633 0.95998814 1.\n",
      " 0.98407994 0.97810992 0.93919892 0.96523838 0.98691676 0.98886443\n",
      " 0.98115844 0.97332543 0.98327547 0.99733254 0.99309848 0.99208231\n",
      " 0.96570412 0.98611229 0.98645101 0.96866797 0.89977983 0.89279363\n",
      " 0.87310526 0.82280464 0.79066813 0.88817851 0.8990177  0.89647726\n",
      " 0.88017614 0.8432128  0.78931324 0.82466763 0.80256584 0.7550597\n",
      " 0.79706156 0.70882378 0.70259971 0.67037852 0.68240325 0.67812685\n",
      " 0.57934499 0.66059785 0.70530951 0.70713015 0.69523245 0.69375053\n",
      " 0.72326192 0.66495893 0.64984334 0.65217207 0.72588704 0.7622576\n",
      " 0.74392413 0.75535608 0.77072572 0.83233127 0.82420188 0.83210898\n",
      " 0.82680583 0.80451351 0.78575663 0.78850876 0.80480989 0.8101448\n",
      " 0.81662291 0.82208485 0.83834364 0.85892116 0.8778474  0.85536455\n",
      " 0.88631552 0.89579981 0.90397155 0.92590397 0.95427217 0.96544161\n",
      " 0.9496147  0.9235329  0.91553053 0.95194343 0.96049623 0.96473029\n",
      " 0.97053095 0.96350241 1.01890624 1.0308857 ]\n",
      "2 day output [[1.0454963]]\n",
      "3 day input [0.8819121  0.88589212 0.90088026 0.9262427  0.93572699 0.95435685\n",
      " 0.95647388 0.94770937 0.94855619 0.96142772 0.96261326 0.9667203\n",
      " 0.96489965 0.98086205 0.93191633 0.95998814 1.         0.98407994\n",
      " 0.97810992 0.93919892 0.96523838 0.98691676 0.98886443 0.98115844\n",
      " 0.97332543 0.98327547 0.99733254 0.99309848 0.99208231 0.96570412\n",
      " 0.98611229 0.98645101 0.96866797 0.89977983 0.89279363 0.87310526\n",
      " 0.82280464 0.79066813 0.88817851 0.8990177  0.89647726 0.88017614\n",
      " 0.8432128  0.78931324 0.82466763 0.80256584 0.7550597  0.79706156\n",
      " 0.70882378 0.70259971 0.67037852 0.68240325 0.67812685 0.57934499\n",
      " 0.66059785 0.70530951 0.70713015 0.69523245 0.69375053 0.72326192\n",
      " 0.66495893 0.64984334 0.65217207 0.72588704 0.7622576  0.74392413\n",
      " 0.75535608 0.77072572 0.83233127 0.82420188 0.83210898 0.82680583\n",
      " 0.80451351 0.78575663 0.78850876 0.80480989 0.8101448  0.81662291\n",
      " 0.82208485 0.83834364 0.85892116 0.8778474  0.85536455 0.88631552\n",
      " 0.89579981 0.90397155 0.92590397 0.95427217 0.96544161 0.9496147\n",
      " 0.9235329  0.91553053 0.95194343 0.96049623 0.96473029 0.97053095\n",
      " 0.96350241 1.01890624 1.0308857  1.04549634]\n",
      "3 day output [[1.0618806]]\n",
      "4 day input [0.88589212 0.90088026 0.9262427  0.93572699 0.95435685 0.95647388\n",
      " 0.94770937 0.94855619 0.96142772 0.96261326 0.9667203  0.96489965\n",
      " 0.98086205 0.93191633 0.95998814 1.         0.98407994 0.97810992\n",
      " 0.93919892 0.96523838 0.98691676 0.98886443 0.98115844 0.97332543\n",
      " 0.98327547 0.99733254 0.99309848 0.99208231 0.96570412 0.98611229\n",
      " 0.98645101 0.96866797 0.89977983 0.89279363 0.87310526 0.82280464\n",
      " 0.79066813 0.88817851 0.8990177  0.89647726 0.88017614 0.8432128\n",
      " 0.78931324 0.82466763 0.80256584 0.7550597  0.79706156 0.70882378\n",
      " 0.70259971 0.67037852 0.68240325 0.67812685 0.57934499 0.66059785\n",
      " 0.70530951 0.70713015 0.69523245 0.69375053 0.72326192 0.66495893\n",
      " 0.64984334 0.65217207 0.72588704 0.7622576  0.74392413 0.75535608\n",
      " 0.77072572 0.83233127 0.82420188 0.83210898 0.82680583 0.80451351\n",
      " 0.78575663 0.78850876 0.80480989 0.8101448  0.81662291 0.82208485\n",
      " 0.83834364 0.85892116 0.8778474  0.85536455 0.88631552 0.89579981\n",
      " 0.90397155 0.92590397 0.95427217 0.96544161 0.9496147  0.9235329\n",
      " 0.91553053 0.95194343 0.96049623 0.96473029 0.97053095 0.96350241\n",
      " 1.01890624 1.0308857  1.04549634 1.06188059]\n",
      "4 day output [[1.0785046]]\n",
      "5 day input [0.90088026 0.9262427  0.93572699 0.95435685 0.95647388 0.94770937\n",
      " 0.94855619 0.96142772 0.96261326 0.9667203  0.96489965 0.98086205\n",
      " 0.93191633 0.95998814 1.         0.98407994 0.97810992 0.93919892\n",
      " 0.96523838 0.98691676 0.98886443 0.98115844 0.97332543 0.98327547\n",
      " 0.99733254 0.99309848 0.99208231 0.96570412 0.98611229 0.98645101\n",
      " 0.96866797 0.89977983 0.89279363 0.87310526 0.82280464 0.79066813\n",
      " 0.88817851 0.8990177  0.89647726 0.88017614 0.8432128  0.78931324\n",
      " 0.82466763 0.80256584 0.7550597  0.79706156 0.70882378 0.70259971\n",
      " 0.67037852 0.68240325 0.67812685 0.57934499 0.66059785 0.70530951\n",
      " 0.70713015 0.69523245 0.69375053 0.72326192 0.66495893 0.64984334\n",
      " 0.65217207 0.72588704 0.7622576  0.74392413 0.75535608 0.77072572\n",
      " 0.83233127 0.82420188 0.83210898 0.82680583 0.80451351 0.78575663\n",
      " 0.78850876 0.80480989 0.8101448  0.81662291 0.82208485 0.83834364\n",
      " 0.85892116 0.8778474  0.85536455 0.88631552 0.89579981 0.90397155\n",
      " 0.92590397 0.95427217 0.96544161 0.9496147  0.9235329  0.91553053\n",
      " 0.95194343 0.96049623 0.96473029 0.97053095 0.96350241 1.01890624\n",
      " 1.0308857  1.04549634 1.06188059 1.07850456]\n",
      "5 day output [[1.0945251]]\n",
      "6 day input [0.9262427  0.93572699 0.95435685 0.95647388 0.94770937 0.94855619\n",
      " 0.96142772 0.96261326 0.9667203  0.96489965 0.98086205 0.93191633\n",
      " 0.95998814 1.         0.98407994 0.97810992 0.93919892 0.96523838\n",
      " 0.98691676 0.98886443 0.98115844 0.97332543 0.98327547 0.99733254\n",
      " 0.99309848 0.99208231 0.96570412 0.98611229 0.98645101 0.96866797\n",
      " 0.89977983 0.89279363 0.87310526 0.82280464 0.79066813 0.88817851\n",
      " 0.8990177  0.89647726 0.88017614 0.8432128  0.78931324 0.82466763\n",
      " 0.80256584 0.7550597  0.79706156 0.70882378 0.70259971 0.67037852\n",
      " 0.68240325 0.67812685 0.57934499 0.66059785 0.70530951 0.70713015\n",
      " 0.69523245 0.69375053 0.72326192 0.66495893 0.64984334 0.65217207\n",
      " 0.72588704 0.7622576  0.74392413 0.75535608 0.77072572 0.83233127\n",
      " 0.82420188 0.83210898 0.82680583 0.80451351 0.78575663 0.78850876\n",
      " 0.80480989 0.8101448  0.81662291 0.82208485 0.83834364 0.85892116\n",
      " 0.8778474  0.85536455 0.88631552 0.89579981 0.90397155 0.92590397\n",
      " 0.95427217 0.96544161 0.9496147  0.9235329  0.91553053 0.95194343\n",
      " 0.96049623 0.96473029 0.97053095 0.96350241 1.01890624 1.0308857\n",
      " 1.04549634 1.06188059 1.07850456 1.0945251 ]\n",
      "6 day output [[1.109927]]\n",
      "7 day input [0.93572699 0.95435685 0.95647388 0.94770937 0.94855619 0.96142772\n",
      " 0.96261326 0.9667203  0.96489965 0.98086205 0.93191633 0.95998814\n",
      " 1.         0.98407994 0.97810992 0.93919892 0.96523838 0.98691676\n",
      " 0.98886443 0.98115844 0.97332543 0.98327547 0.99733254 0.99309848\n",
      " 0.99208231 0.96570412 0.98611229 0.98645101 0.96866797 0.89977983\n",
      " 0.89279363 0.87310526 0.82280464 0.79066813 0.88817851 0.8990177\n",
      " 0.89647726 0.88017614 0.8432128  0.78931324 0.82466763 0.80256584\n",
      " 0.7550597  0.79706156 0.70882378 0.70259971 0.67037852 0.68240325\n",
      " 0.67812685 0.57934499 0.66059785 0.70530951 0.70713015 0.69523245\n",
      " 0.69375053 0.72326192 0.66495893 0.64984334 0.65217207 0.72588704\n",
      " 0.7622576  0.74392413 0.75535608 0.77072572 0.83233127 0.82420188\n",
      " 0.83210898 0.82680583 0.80451351 0.78575663 0.78850876 0.80480989\n",
      " 0.8101448  0.81662291 0.82208485 0.83834364 0.85892116 0.8778474\n",
      " 0.85536455 0.88631552 0.89579981 0.90397155 0.92590397 0.95427217\n",
      " 0.96544161 0.9496147  0.9235329  0.91553053 0.95194343 0.96049623\n",
      " 0.96473029 0.97053095 0.96350241 1.01890624 1.0308857  1.04549634\n",
      " 1.06188059 1.07850456 1.0945251  1.10992706]\n",
      "7 day output [[1.125168]]\n",
      "8 day input [0.95435685 0.95647388 0.94770937 0.94855619 0.96142772 0.96261326\n",
      " 0.9667203  0.96489965 0.98086205 0.93191633 0.95998814 1.\n",
      " 0.98407994 0.97810992 0.93919892 0.96523838 0.98691676 0.98886443\n",
      " 0.98115844 0.97332543 0.98327547 0.99733254 0.99309848 0.99208231\n",
      " 0.96570412 0.98611229 0.98645101 0.96866797 0.89977983 0.89279363\n",
      " 0.87310526 0.82280464 0.79066813 0.88817851 0.8990177  0.89647726\n",
      " 0.88017614 0.8432128  0.78931324 0.82466763 0.80256584 0.7550597\n",
      " 0.79706156 0.70882378 0.70259971 0.67037852 0.68240325 0.67812685\n",
      " 0.57934499 0.66059785 0.70530951 0.70713015 0.69523245 0.69375053\n",
      " 0.72326192 0.66495893 0.64984334 0.65217207 0.72588704 0.7622576\n",
      " 0.74392413 0.75535608 0.77072572 0.83233127 0.82420188 0.83210898\n",
      " 0.82680583 0.80451351 0.78575663 0.78850876 0.80480989 0.8101448\n",
      " 0.81662291 0.82208485 0.83834364 0.85892116 0.8778474  0.85536455\n",
      " 0.88631552 0.89579981 0.90397155 0.92590397 0.95427217 0.96544161\n",
      " 0.9496147  0.9235329  0.91553053 0.95194343 0.96049623 0.96473029\n",
      " 0.97053095 0.96350241 1.01890624 1.0308857  1.04549634 1.06188059\n",
      " 1.07850456 1.0945251  1.10992706 1.12516797]\n",
      "8 day output [[1.1408025]]\n",
      "9 day input [0.95647388 0.94770937 0.94855619 0.96142772 0.96261326 0.9667203\n",
      " 0.96489965 0.98086205 0.93191633 0.95998814 1.         0.98407994\n",
      " 0.97810992 0.93919892 0.96523838 0.98691676 0.98886443 0.98115844\n",
      " 0.97332543 0.98327547 0.99733254 0.99309848 0.99208231 0.96570412\n",
      " 0.98611229 0.98645101 0.96866797 0.89977983 0.89279363 0.87310526\n",
      " 0.82280464 0.79066813 0.88817851 0.8990177  0.89647726 0.88017614\n",
      " 0.8432128  0.78931324 0.82466763 0.80256584 0.7550597  0.79706156\n",
      " 0.70882378 0.70259971 0.67037852 0.68240325 0.67812685 0.57934499\n",
      " 0.66059785 0.70530951 0.70713015 0.69523245 0.69375053 0.72326192\n",
      " 0.66495893 0.64984334 0.65217207 0.72588704 0.7622576  0.74392413\n",
      " 0.75535608 0.77072572 0.83233127 0.82420188 0.83210898 0.82680583\n",
      " 0.80451351 0.78575663 0.78850876 0.80480989 0.8101448  0.81662291\n",
      " 0.82208485 0.83834364 0.85892116 0.8778474  0.85536455 0.88631552\n",
      " 0.89579981 0.90397155 0.92590397 0.95427217 0.96544161 0.9496147\n",
      " 0.9235329  0.91553053 0.95194343 0.96049623 0.96473029 0.97053095\n",
      " 0.96350241 1.01890624 1.0308857  1.04549634 1.06188059 1.07850456\n",
      " 1.0945251  1.10992706 1.12516797 1.1408025 ]\n",
      "9 day output [[1.1572446]]\n",
      "10 day input [0.94770937 0.94855619 0.96142772 0.96261326 0.9667203  0.96489965\n",
      " 0.98086205 0.93191633 0.95998814 1.         0.98407994 0.97810992\n",
      " 0.93919892 0.96523838 0.98691676 0.98886443 0.98115844 0.97332543\n",
      " 0.98327547 0.99733254 0.99309848 0.99208231 0.96570412 0.98611229\n",
      " 0.98645101 0.96866797 0.89977983 0.89279363 0.87310526 0.82280464\n",
      " 0.79066813 0.88817851 0.8990177  0.89647726 0.88017614 0.8432128\n",
      " 0.78931324 0.82466763 0.80256584 0.7550597  0.79706156 0.70882378\n",
      " 0.70259971 0.67037852 0.68240325 0.67812685 0.57934499 0.66059785\n",
      " 0.70530951 0.70713015 0.69523245 0.69375053 0.72326192 0.66495893\n",
      " 0.64984334 0.65217207 0.72588704 0.7622576  0.74392413 0.75535608\n",
      " 0.77072572 0.83233127 0.82420188 0.83210898 0.82680583 0.80451351\n",
      " 0.78575663 0.78850876 0.80480989 0.8101448  0.81662291 0.82208485\n",
      " 0.83834364 0.85892116 0.8778474  0.85536455 0.88631552 0.89579981\n",
      " 0.90397155 0.92590397 0.95427217 0.96544161 0.9496147  0.9235329\n",
      " 0.91553053 0.95194343 0.96049623 0.96473029 0.97053095 0.96350241\n",
      " 1.01890624 1.0308857  1.04549634 1.06188059 1.07850456 1.0945251\n",
      " 1.10992706 1.12516797 1.1408025  1.15724456]\n",
      "10 day output [[1.1746784]]\n",
      "11 day input [0.94855619 0.96142772 0.96261326 0.9667203  0.96489965 0.98086205\n",
      " 0.93191633 0.95998814 1.         0.98407994 0.97810992 0.93919892\n",
      " 0.96523838 0.98691676 0.98886443 0.98115844 0.97332543 0.98327547\n",
      " 0.99733254 0.99309848 0.99208231 0.96570412 0.98611229 0.98645101\n",
      " 0.96866797 0.89977983 0.89279363 0.87310526 0.82280464 0.79066813\n",
      " 0.88817851 0.8990177  0.89647726 0.88017614 0.8432128  0.78931324\n",
      " 0.82466763 0.80256584 0.7550597  0.79706156 0.70882378 0.70259971\n",
      " 0.67037852 0.68240325 0.67812685 0.57934499 0.66059785 0.70530951\n",
      " 0.70713015 0.69523245 0.69375053 0.72326192 0.66495893 0.64984334\n",
      " 0.65217207 0.72588704 0.7622576  0.74392413 0.75535608 0.77072572\n",
      " 0.83233127 0.82420188 0.83210898 0.82680583 0.80451351 0.78575663\n",
      " 0.78850876 0.80480989 0.8101448  0.81662291 0.82208485 0.83834364\n",
      " 0.85892116 0.8778474  0.85536455 0.88631552 0.89579981 0.90397155\n",
      " 0.92590397 0.95427217 0.96544161 0.9496147  0.9235329  0.91553053\n",
      " 0.95194343 0.96049623 0.96473029 0.97053095 0.96350241 1.01890624\n",
      " 1.0308857  1.04549634 1.06188059 1.07850456 1.0945251  1.10992706\n",
      " 1.12516797 1.1408025  1.15724456 1.17467844]\n",
      "11 day output [[1.1930689]]\n",
      "12 day input [0.96142772 0.96261326 0.9667203  0.96489965 0.98086205 0.93191633\n",
      " 0.95998814 1.         0.98407994 0.97810992 0.93919892 0.96523838\n",
      " 0.98691676 0.98886443 0.98115844 0.97332543 0.98327547 0.99733254\n",
      " 0.99309848 0.99208231 0.96570412 0.98611229 0.98645101 0.96866797\n",
      " 0.89977983 0.89279363 0.87310526 0.82280464 0.79066813 0.88817851\n",
      " 0.8990177  0.89647726 0.88017614 0.8432128  0.78931324 0.82466763\n",
      " 0.80256584 0.7550597  0.79706156 0.70882378 0.70259971 0.67037852\n",
      " 0.68240325 0.67812685 0.57934499 0.66059785 0.70530951 0.70713015\n",
      " 0.69523245 0.69375053 0.72326192 0.66495893 0.64984334 0.65217207\n",
      " 0.72588704 0.7622576  0.74392413 0.75535608 0.77072572 0.83233127\n",
      " 0.82420188 0.83210898 0.82680583 0.80451351 0.78575663 0.78850876\n",
      " 0.80480989 0.8101448  0.81662291 0.82208485 0.83834364 0.85892116\n",
      " 0.8778474  0.85536455 0.88631552 0.89579981 0.90397155 0.92590397\n",
      " 0.95427217 0.96544161 0.9496147  0.9235329  0.91553053 0.95194343\n",
      " 0.96049623 0.96473029 0.97053095 0.96350241 1.01890624 1.0308857\n",
      " 1.04549634 1.06188059 1.07850456 1.0945251  1.10992706 1.12516797\n",
      " 1.1408025  1.15724456 1.17467844 1.19306886]\n",
      "12 day output [[1.2122172]]\n",
      "13 day input [0.96261326 0.9667203  0.96489965 0.98086205 0.93191633 0.95998814\n",
      " 1.         0.98407994 0.97810992 0.93919892 0.96523838 0.98691676\n",
      " 0.98886443 0.98115844 0.97332543 0.98327547 0.99733254 0.99309848\n",
      " 0.99208231 0.96570412 0.98611229 0.98645101 0.96866797 0.89977983\n",
      " 0.89279363 0.87310526 0.82280464 0.79066813 0.88817851 0.8990177\n",
      " 0.89647726 0.88017614 0.8432128  0.78931324 0.82466763 0.80256584\n",
      " 0.7550597  0.79706156 0.70882378 0.70259971 0.67037852 0.68240325\n",
      " 0.67812685 0.57934499 0.66059785 0.70530951 0.70713015 0.69523245\n",
      " 0.69375053 0.72326192 0.66495893 0.64984334 0.65217207 0.72588704\n",
      " 0.7622576  0.74392413 0.75535608 0.77072572 0.83233127 0.82420188\n",
      " 0.83210898 0.82680583 0.80451351 0.78575663 0.78850876 0.80480989\n",
      " 0.8101448  0.81662291 0.82208485 0.83834364 0.85892116 0.8778474\n",
      " 0.85536455 0.88631552 0.89579981 0.90397155 0.92590397 0.95427217\n",
      " 0.96544161 0.9496147  0.9235329  0.91553053 0.95194343 0.96049623\n",
      " 0.96473029 0.97053095 0.96350241 1.01890624 1.0308857  1.04549634\n",
      " 1.06188059 1.07850456 1.0945251  1.10992706 1.12516797 1.1408025\n",
      " 1.15724456 1.17467844 1.19306886 1.21221721]\n",
      "13 day output [[1.2318453]]\n",
      "14 day input [0.9667203  0.96489965 0.98086205 0.93191633 0.95998814 1.\n",
      " 0.98407994 0.97810992 0.93919892 0.96523838 0.98691676 0.98886443\n",
      " 0.98115844 0.97332543 0.98327547 0.99733254 0.99309848 0.99208231\n",
      " 0.96570412 0.98611229 0.98645101 0.96866797 0.89977983 0.89279363\n",
      " 0.87310526 0.82280464 0.79066813 0.88817851 0.8990177  0.89647726\n",
      " 0.88017614 0.8432128  0.78931324 0.82466763 0.80256584 0.7550597\n",
      " 0.79706156 0.70882378 0.70259971 0.67037852 0.68240325 0.67812685\n",
      " 0.57934499 0.66059785 0.70530951 0.70713015 0.69523245 0.69375053\n",
      " 0.72326192 0.66495893 0.64984334 0.65217207 0.72588704 0.7622576\n",
      " 0.74392413 0.75535608 0.77072572 0.83233127 0.82420188 0.83210898\n",
      " 0.82680583 0.80451351 0.78575663 0.78850876 0.80480989 0.8101448\n",
      " 0.81662291 0.82208485 0.83834364 0.85892116 0.8778474  0.85536455\n",
      " 0.88631552 0.89579981 0.90397155 0.92590397 0.95427217 0.96544161\n",
      " 0.9496147  0.9235329  0.91553053 0.95194343 0.96049623 0.96473029\n",
      " 0.97053095 0.96350241 1.01890624 1.0308857  1.04549634 1.06188059\n",
      " 1.07850456 1.0945251  1.10992706 1.12516797 1.1408025  1.15724456\n",
      " 1.17467844 1.19306886 1.21221721 1.23184526]\n",
      "14 day output [[1.2516716]]\n",
      "15 day input [0.96489965 0.98086205 0.93191633 0.95998814 1.         0.98407994\n",
      " 0.97810992 0.93919892 0.96523838 0.98691676 0.98886443 0.98115844\n",
      " 0.97332543 0.98327547 0.99733254 0.99309848 0.99208231 0.96570412\n",
      " 0.98611229 0.98645101 0.96866797 0.89977983 0.89279363 0.87310526\n",
      " 0.82280464 0.79066813 0.88817851 0.8990177  0.89647726 0.88017614\n",
      " 0.8432128  0.78931324 0.82466763 0.80256584 0.7550597  0.79706156\n",
      " 0.70882378 0.70259971 0.67037852 0.68240325 0.67812685 0.57934499\n",
      " 0.66059785 0.70530951 0.70713015 0.69523245 0.69375053 0.72326192\n",
      " 0.66495893 0.64984334 0.65217207 0.72588704 0.7622576  0.74392413\n",
      " 0.75535608 0.77072572 0.83233127 0.82420188 0.83210898 0.82680583\n",
      " 0.80451351 0.78575663 0.78850876 0.80480989 0.8101448  0.81662291\n",
      " 0.82208485 0.83834364 0.85892116 0.8778474  0.85536455 0.88631552\n",
      " 0.89579981 0.90397155 0.92590397 0.95427217 0.96544161 0.9496147\n",
      " 0.9235329  0.91553053 0.95194343 0.96049623 0.96473029 0.97053095\n",
      " 0.96350241 1.01890624 1.0308857  1.04549634 1.06188059 1.07850456\n",
      " 1.0945251  1.10992706 1.12516797 1.1408025  1.15724456 1.17467844\n",
      " 1.19306886 1.21221721 1.23184526 1.25167155]\n",
      "15 day output [[1.2714765]]\n",
      "16 day input [0.98086205 0.93191633 0.95998814 1.         0.98407994 0.97810992\n",
      " 0.93919892 0.96523838 0.98691676 0.98886443 0.98115844 0.97332543\n",
      " 0.98327547 0.99733254 0.99309848 0.99208231 0.96570412 0.98611229\n",
      " 0.98645101 0.96866797 0.89977983 0.89279363 0.87310526 0.82280464\n",
      " 0.79066813 0.88817851 0.8990177  0.89647726 0.88017614 0.8432128\n",
      " 0.78931324 0.82466763 0.80256584 0.7550597  0.79706156 0.70882378\n",
      " 0.70259971 0.67037852 0.68240325 0.67812685 0.57934499 0.66059785\n",
      " 0.70530951 0.70713015 0.69523245 0.69375053 0.72326192 0.66495893\n",
      " 0.64984334 0.65217207 0.72588704 0.7622576  0.74392413 0.75535608\n",
      " 0.77072572 0.83233127 0.82420188 0.83210898 0.82680583 0.80451351\n",
      " 0.78575663 0.78850876 0.80480989 0.8101448  0.81662291 0.82208485\n",
      " 0.83834364 0.85892116 0.8778474  0.85536455 0.88631552 0.89579981\n",
      " 0.90397155 0.92590397 0.95427217 0.96544161 0.9496147  0.9235329\n",
      " 0.91553053 0.95194343 0.96049623 0.96473029 0.97053095 0.96350241\n",
      " 1.01890624 1.0308857  1.04549634 1.06188059 1.07850456 1.0945251\n",
      " 1.10992706 1.12516797 1.1408025  1.15724456 1.17467844 1.19306886\n",
      " 1.21221721 1.23184526 1.25167155 1.27147651]\n",
      "16 day output [[1.2911317]]\n",
      "17 day input [0.93191633 0.95998814 1.         0.98407994 0.97810992 0.93919892\n",
      " 0.96523838 0.98691676 0.98886443 0.98115844 0.97332543 0.98327547\n",
      " 0.99733254 0.99309848 0.99208231 0.96570412 0.98611229 0.98645101\n",
      " 0.96866797 0.89977983 0.89279363 0.87310526 0.82280464 0.79066813\n",
      " 0.88817851 0.8990177  0.89647726 0.88017614 0.8432128  0.78931324\n",
      " 0.82466763 0.80256584 0.7550597  0.79706156 0.70882378 0.70259971\n",
      " 0.67037852 0.68240325 0.67812685 0.57934499 0.66059785 0.70530951\n",
      " 0.70713015 0.69523245 0.69375053 0.72326192 0.66495893 0.64984334\n",
      " 0.65217207 0.72588704 0.7622576  0.74392413 0.75535608 0.77072572\n",
      " 0.83233127 0.82420188 0.83210898 0.82680583 0.80451351 0.78575663\n",
      " 0.78850876 0.80480989 0.8101448  0.81662291 0.82208485 0.83834364\n",
      " 0.85892116 0.8778474  0.85536455 0.88631552 0.89579981 0.90397155\n",
      " 0.92590397 0.95427217 0.96544161 0.9496147  0.9235329  0.91553053\n",
      " 0.95194343 0.96049623 0.96473029 0.97053095 0.96350241 1.01890624\n",
      " 1.0308857  1.04549634 1.06188059 1.07850456 1.0945251  1.10992706\n",
      " 1.12516797 1.1408025  1.15724456 1.17467844 1.19306886 1.21221721\n",
      " 1.23184526 1.25167155 1.27147651 1.29113173]\n",
      "17 day output [[1.3106115]]\n",
      "18 day input [0.95998814 1.         0.98407994 0.97810992 0.93919892 0.96523838\n",
      " 0.98691676 0.98886443 0.98115844 0.97332543 0.98327547 0.99733254\n",
      " 0.99309848 0.99208231 0.96570412 0.98611229 0.98645101 0.96866797\n",
      " 0.89977983 0.89279363 0.87310526 0.82280464 0.79066813 0.88817851\n",
      " 0.8990177  0.89647726 0.88017614 0.8432128  0.78931324 0.82466763\n",
      " 0.80256584 0.7550597  0.79706156 0.70882378 0.70259971 0.67037852\n",
      " 0.68240325 0.67812685 0.57934499 0.66059785 0.70530951 0.70713015\n",
      " 0.69523245 0.69375053 0.72326192 0.66495893 0.64984334 0.65217207\n",
      " 0.72588704 0.7622576  0.74392413 0.75535608 0.77072572 0.83233127\n",
      " 0.82420188 0.83210898 0.82680583 0.80451351 0.78575663 0.78850876\n",
      " 0.80480989 0.8101448  0.81662291 0.82208485 0.83834364 0.85892116\n",
      " 0.8778474  0.85536455 0.88631552 0.89579981 0.90397155 0.92590397\n",
      " 0.95427217 0.96544161 0.9496147  0.9235329  0.91553053 0.95194343\n",
      " 0.96049623 0.96473029 0.97053095 0.96350241 1.01890624 1.0308857\n",
      " 1.04549634 1.06188059 1.07850456 1.0945251  1.10992706 1.12516797\n",
      " 1.1408025  1.15724456 1.17467844 1.19306886 1.21221721 1.23184526\n",
      " 1.25167155 1.27147651 1.29113173 1.31061149]\n",
      "18 day output [[1.3299696]]\n",
      "19 day input [1.         0.98407994 0.97810992 0.93919892 0.96523838 0.98691676\n",
      " 0.98886443 0.98115844 0.97332543 0.98327547 0.99733254 0.99309848\n",
      " 0.99208231 0.96570412 0.98611229 0.98645101 0.96866797 0.89977983\n",
      " 0.89279363 0.87310526 0.82280464 0.79066813 0.88817851 0.8990177\n",
      " 0.89647726 0.88017614 0.8432128  0.78931324 0.82466763 0.80256584\n",
      " 0.7550597  0.79706156 0.70882378 0.70259971 0.67037852 0.68240325\n",
      " 0.67812685 0.57934499 0.66059785 0.70530951 0.70713015 0.69523245\n",
      " 0.69375053 0.72326192 0.66495893 0.64984334 0.65217207 0.72588704\n",
      " 0.7622576  0.74392413 0.75535608 0.77072572 0.83233127 0.82420188\n",
      " 0.83210898 0.82680583 0.80451351 0.78575663 0.78850876 0.80480989\n",
      " 0.8101448  0.81662291 0.82208485 0.83834364 0.85892116 0.8778474\n",
      " 0.85536455 0.88631552 0.89579981 0.90397155 0.92590397 0.95427217\n",
      " 0.96544161 0.9496147  0.9235329  0.91553053 0.95194343 0.96049623\n",
      " 0.96473029 0.97053095 0.96350241 1.01890624 1.0308857  1.04549634\n",
      " 1.06188059 1.07850456 1.0945251  1.10992706 1.12516797 1.1408025\n",
      " 1.15724456 1.17467844 1.19306886 1.21221721 1.23184526 1.25167155\n",
      " 1.27147651 1.29113173 1.31061149 1.32996964]\n",
      "19 day output [[1.349304]]\n",
      "20 day input [0.98407994 0.97810992 0.93919892 0.96523838 0.98691676 0.98886443\n",
      " 0.98115844 0.97332543 0.98327547 0.99733254 0.99309848 0.99208231\n",
      " 0.96570412 0.98611229 0.98645101 0.96866797 0.89977983 0.89279363\n",
      " 0.87310526 0.82280464 0.79066813 0.88817851 0.8990177  0.89647726\n",
      " 0.88017614 0.8432128  0.78931324 0.82466763 0.80256584 0.7550597\n",
      " 0.79706156 0.70882378 0.70259971 0.67037852 0.68240325 0.67812685\n",
      " 0.57934499 0.66059785 0.70530951 0.70713015 0.69523245 0.69375053\n",
      " 0.72326192 0.66495893 0.64984334 0.65217207 0.72588704 0.7622576\n",
      " 0.74392413 0.75535608 0.77072572 0.83233127 0.82420188 0.83210898\n",
      " 0.82680583 0.80451351 0.78575663 0.78850876 0.80480989 0.8101448\n",
      " 0.81662291 0.82208485 0.83834364 0.85892116 0.8778474  0.85536455\n",
      " 0.88631552 0.89579981 0.90397155 0.92590397 0.95427217 0.96544161\n",
      " 0.9496147  0.9235329  0.91553053 0.95194343 0.96049623 0.96473029\n",
      " 0.97053095 0.96350241 1.01890624 1.0308857  1.04549634 1.06188059\n",
      " 1.07850456 1.0945251  1.10992706 1.12516797 1.1408025  1.15724456\n",
      " 1.17467844 1.19306886 1.21221721 1.23184526 1.25167155 1.27147651\n",
      " 1.29113173 1.31061149 1.32996964 1.34930396]\n",
      "20 day output [[1.3687218]]\n",
      "21 day input [0.97810992 0.93919892 0.96523838 0.98691676 0.98886443 0.98115844\n",
      " 0.97332543 0.98327547 0.99733254 0.99309848 0.99208231 0.96570412\n",
      " 0.98611229 0.98645101 0.96866797 0.89977983 0.89279363 0.87310526\n",
      " 0.82280464 0.79066813 0.88817851 0.8990177  0.89647726 0.88017614\n",
      " 0.8432128  0.78931324 0.82466763 0.80256584 0.7550597  0.79706156\n",
      " 0.70882378 0.70259971 0.67037852 0.68240325 0.67812685 0.57934499\n",
      " 0.66059785 0.70530951 0.70713015 0.69523245 0.69375053 0.72326192\n",
      " 0.66495893 0.64984334 0.65217207 0.72588704 0.7622576  0.74392413\n",
      " 0.75535608 0.77072572 0.83233127 0.82420188 0.83210898 0.82680583\n",
      " 0.80451351 0.78575663 0.78850876 0.80480989 0.8101448  0.81662291\n",
      " 0.82208485 0.83834364 0.85892116 0.8778474  0.85536455 0.88631552\n",
      " 0.89579981 0.90397155 0.92590397 0.95427217 0.96544161 0.9496147\n",
      " 0.9235329  0.91553053 0.95194343 0.96049623 0.96473029 0.97053095\n",
      " 0.96350241 1.01890624 1.0308857  1.04549634 1.06188059 1.07850456\n",
      " 1.0945251  1.10992706 1.12516797 1.1408025  1.15724456 1.17467844\n",
      " 1.19306886 1.21221721 1.23184526 1.25167155 1.27147651 1.29113173\n",
      " 1.31061149 1.32996964 1.34930396 1.36872184]\n",
      "21 day output [[1.3883042]]\n",
      "22 day input [0.93919892 0.96523838 0.98691676 0.98886443 0.98115844 0.97332543\n",
      " 0.98327547 0.99733254 0.99309848 0.99208231 0.96570412 0.98611229\n",
      " 0.98645101 0.96866797 0.89977983 0.89279363 0.87310526 0.82280464\n",
      " 0.79066813 0.88817851 0.8990177  0.89647726 0.88017614 0.8432128\n",
      " 0.78931324 0.82466763 0.80256584 0.7550597  0.79706156 0.70882378\n",
      " 0.70259971 0.67037852 0.68240325 0.67812685 0.57934499 0.66059785\n",
      " 0.70530951 0.70713015 0.69523245 0.69375053 0.72326192 0.66495893\n",
      " 0.64984334 0.65217207 0.72588704 0.7622576  0.74392413 0.75535608\n",
      " 0.77072572 0.83233127 0.82420188 0.83210898 0.82680583 0.80451351\n",
      " 0.78575663 0.78850876 0.80480989 0.8101448  0.81662291 0.82208485\n",
      " 0.83834364 0.85892116 0.8778474  0.85536455 0.88631552 0.89579981\n",
      " 0.90397155 0.92590397 0.95427217 0.96544161 0.9496147  0.9235329\n",
      " 0.91553053 0.95194343 0.96049623 0.96473029 0.97053095 0.96350241\n",
      " 1.01890624 1.0308857  1.04549634 1.06188059 1.07850456 1.0945251\n",
      " 1.10992706 1.12516797 1.1408025  1.15724456 1.17467844 1.19306886\n",
      " 1.21221721 1.23184526 1.25167155 1.27147651 1.29113173 1.31061149\n",
      " 1.32996964 1.34930396 1.36872184 1.38830423]\n",
      "22 day output [[1.4080869]]\n",
      "23 day input [0.96523838 0.98691676 0.98886443 0.98115844 0.97332543 0.98327547\n",
      " 0.99733254 0.99309848 0.99208231 0.96570412 0.98611229 0.98645101\n",
      " 0.96866797 0.89977983 0.89279363 0.87310526 0.82280464 0.79066813\n",
      " 0.88817851 0.8990177  0.89647726 0.88017614 0.8432128  0.78931324\n",
      " 0.82466763 0.80256584 0.7550597  0.79706156 0.70882378 0.70259971\n",
      " 0.67037852 0.68240325 0.67812685 0.57934499 0.66059785 0.70530951\n",
      " 0.70713015 0.69523245 0.69375053 0.72326192 0.66495893 0.64984334\n",
      " 0.65217207 0.72588704 0.7622576  0.74392413 0.75535608 0.77072572\n",
      " 0.83233127 0.82420188 0.83210898 0.82680583 0.80451351 0.78575663\n",
      " 0.78850876 0.80480989 0.8101448  0.81662291 0.82208485 0.83834364\n",
      " 0.85892116 0.8778474  0.85536455 0.88631552 0.89579981 0.90397155\n",
      " 0.92590397 0.95427217 0.96544161 0.9496147  0.9235329  0.91553053\n",
      " 0.95194343 0.96049623 0.96473029 0.97053095 0.96350241 1.01890624\n",
      " 1.0308857  1.04549634 1.06188059 1.07850456 1.0945251  1.10992706\n",
      " 1.12516797 1.1408025  1.15724456 1.17467844 1.19306886 1.21221721\n",
      " 1.23184526 1.25167155 1.27147651 1.29113173 1.31061149 1.32996964\n",
      " 1.34930396 1.36872184 1.38830423 1.4080869 ]\n",
      "23 day output [[1.4280586]]\n",
      "24 day input [0.98691676 0.98886443 0.98115844 0.97332543 0.98327547 0.99733254\n",
      " 0.99309848 0.99208231 0.96570412 0.98611229 0.98645101 0.96866797\n",
      " 0.89977983 0.89279363 0.87310526 0.82280464 0.79066813 0.88817851\n",
      " 0.8990177  0.89647726 0.88017614 0.8432128  0.78931324 0.82466763\n",
      " 0.80256584 0.7550597  0.79706156 0.70882378 0.70259971 0.67037852\n",
      " 0.68240325 0.67812685 0.57934499 0.66059785 0.70530951 0.70713015\n",
      " 0.69523245 0.69375053 0.72326192 0.66495893 0.64984334 0.65217207\n",
      " 0.72588704 0.7622576  0.74392413 0.75535608 0.77072572 0.83233127\n",
      " 0.82420188 0.83210898 0.82680583 0.80451351 0.78575663 0.78850876\n",
      " 0.80480989 0.8101448  0.81662291 0.82208485 0.83834364 0.85892116\n",
      " 0.8778474  0.85536455 0.88631552 0.89579981 0.90397155 0.92590397\n",
      " 0.95427217 0.96544161 0.9496147  0.9235329  0.91553053 0.95194343\n",
      " 0.96049623 0.96473029 0.97053095 0.96350241 1.01890624 1.0308857\n",
      " 1.04549634 1.06188059 1.07850456 1.0945251  1.10992706 1.12516797\n",
      " 1.1408025  1.15724456 1.17467844 1.19306886 1.21221721 1.23184526\n",
      " 1.25167155 1.27147651 1.29113173 1.31061149 1.32996964 1.34930396\n",
      " 1.36872184 1.38830423 1.4080869  1.42805862]\n",
      "24 day output [[1.4481645]]\n",
      "25 day input [0.98886443 0.98115844 0.97332543 0.98327547 0.99733254 0.99309848\n",
      " 0.99208231 0.96570412 0.98611229 0.98645101 0.96866797 0.89977983\n",
      " 0.89279363 0.87310526 0.82280464 0.79066813 0.88817851 0.8990177\n",
      " 0.89647726 0.88017614 0.8432128  0.78931324 0.82466763 0.80256584\n",
      " 0.7550597  0.79706156 0.70882378 0.70259971 0.67037852 0.68240325\n",
      " 0.67812685 0.57934499 0.66059785 0.70530951 0.70713015 0.69523245\n",
      " 0.69375053 0.72326192 0.66495893 0.64984334 0.65217207 0.72588704\n",
      " 0.7622576  0.74392413 0.75535608 0.77072572 0.83233127 0.82420188\n",
      " 0.83210898 0.82680583 0.80451351 0.78575663 0.78850876 0.80480989\n",
      " 0.8101448  0.81662291 0.82208485 0.83834364 0.85892116 0.8778474\n",
      " 0.85536455 0.88631552 0.89579981 0.90397155 0.92590397 0.95427217\n",
      " 0.96544161 0.9496147  0.9235329  0.91553053 0.95194343 0.96049623\n",
      " 0.96473029 0.97053095 0.96350241 1.01890624 1.0308857  1.04549634\n",
      " 1.06188059 1.07850456 1.0945251  1.10992706 1.12516797 1.1408025\n",
      " 1.15724456 1.17467844 1.19306886 1.21221721 1.23184526 1.25167155\n",
      " 1.27147651 1.29113173 1.31061149 1.32996964 1.34930396 1.36872184\n",
      " 1.38830423 1.4080869  1.42805862 1.44816446]\n",
      "25 day output [[1.4683264]]\n",
      "26 day input [0.98115844 0.97332543 0.98327547 0.99733254 0.99309848 0.99208231\n",
      " 0.96570412 0.98611229 0.98645101 0.96866797 0.89977983 0.89279363\n",
      " 0.87310526 0.82280464 0.79066813 0.88817851 0.8990177  0.89647726\n",
      " 0.88017614 0.8432128  0.78931324 0.82466763 0.80256584 0.7550597\n",
      " 0.79706156 0.70882378 0.70259971 0.67037852 0.68240325 0.67812685\n",
      " 0.57934499 0.66059785 0.70530951 0.70713015 0.69523245 0.69375053\n",
      " 0.72326192 0.66495893 0.64984334 0.65217207 0.72588704 0.7622576\n",
      " 0.74392413 0.75535608 0.77072572 0.83233127 0.82420188 0.83210898\n",
      " 0.82680583 0.80451351 0.78575663 0.78850876 0.80480989 0.8101448\n",
      " 0.81662291 0.82208485 0.83834364 0.85892116 0.8778474  0.85536455\n",
      " 0.88631552 0.89579981 0.90397155 0.92590397 0.95427217 0.96544161\n",
      " 0.9496147  0.9235329  0.91553053 0.95194343 0.96049623 0.96473029\n",
      " 0.97053095 0.96350241 1.01890624 1.0308857  1.04549634 1.06188059\n",
      " 1.07850456 1.0945251  1.10992706 1.12516797 1.1408025  1.15724456\n",
      " 1.17467844 1.19306886 1.21221721 1.23184526 1.25167155 1.27147651\n",
      " 1.29113173 1.31061149 1.32996964 1.34930396 1.36872184 1.38830423\n",
      " 1.4080869  1.42805862 1.44816446 1.46832645]\n",
      "26 day output [[1.4884585]]\n",
      "27 day input [0.97332543 0.98327547 0.99733254 0.99309848 0.99208231 0.96570412\n",
      " 0.98611229 0.98645101 0.96866797 0.89977983 0.89279363 0.87310526\n",
      " 0.82280464 0.79066813 0.88817851 0.8990177  0.89647726 0.88017614\n",
      " 0.8432128  0.78931324 0.82466763 0.80256584 0.7550597  0.79706156\n",
      " 0.70882378 0.70259971 0.67037852 0.68240325 0.67812685 0.57934499\n",
      " 0.66059785 0.70530951 0.70713015 0.69523245 0.69375053 0.72326192\n",
      " 0.66495893 0.64984334 0.65217207 0.72588704 0.7622576  0.74392413\n",
      " 0.75535608 0.77072572 0.83233127 0.82420188 0.83210898 0.82680583\n",
      " 0.80451351 0.78575663 0.78850876 0.80480989 0.8101448  0.81662291\n",
      " 0.82208485 0.83834364 0.85892116 0.8778474  0.85536455 0.88631552\n",
      " 0.89579981 0.90397155 0.92590397 0.95427217 0.96544161 0.9496147\n",
      " 0.9235329  0.91553053 0.95194343 0.96049623 0.96473029 0.97053095\n",
      " 0.96350241 1.01890624 1.0308857  1.04549634 1.06188059 1.07850456\n",
      " 1.0945251  1.10992706 1.12516797 1.1408025  1.15724456 1.17467844\n",
      " 1.19306886 1.21221721 1.23184526 1.25167155 1.27147651 1.29113173\n",
      " 1.31061149 1.32996964 1.34930396 1.36872184 1.38830423 1.4080869\n",
      " 1.42805862 1.44816446 1.46832645 1.48845851]\n",
      "27 day output [[1.5084836]]\n",
      "28 day input [0.98327547 0.99733254 0.99309848 0.99208231 0.96570412 0.98611229\n",
      " 0.98645101 0.96866797 0.89977983 0.89279363 0.87310526 0.82280464\n",
      " 0.79066813 0.88817851 0.8990177  0.89647726 0.88017614 0.8432128\n",
      " 0.78931324 0.82466763 0.80256584 0.7550597  0.79706156 0.70882378\n",
      " 0.70259971 0.67037852 0.68240325 0.67812685 0.57934499 0.66059785\n",
      " 0.70530951 0.70713015 0.69523245 0.69375053 0.72326192 0.66495893\n",
      " 0.64984334 0.65217207 0.72588704 0.7622576  0.74392413 0.75535608\n",
      " 0.77072572 0.83233127 0.82420188 0.83210898 0.82680583 0.80451351\n",
      " 0.78575663 0.78850876 0.80480989 0.8101448  0.81662291 0.82208485\n",
      " 0.83834364 0.85892116 0.8778474  0.85536455 0.88631552 0.89579981\n",
      " 0.90397155 0.92590397 0.95427217 0.96544161 0.9496147  0.9235329\n",
      " 0.91553053 0.95194343 0.96049623 0.96473029 0.97053095 0.96350241\n",
      " 1.01890624 1.0308857  1.04549634 1.06188059 1.07850456 1.0945251\n",
      " 1.10992706 1.12516797 1.1408025  1.15724456 1.17467844 1.19306886\n",
      " 1.21221721 1.23184526 1.25167155 1.27147651 1.29113173 1.31061149\n",
      " 1.32996964 1.34930396 1.36872184 1.38830423 1.4080869  1.42805862\n",
      " 1.44816446 1.46832645 1.48845851 1.50848365]\n",
      "28 day output [[1.5283431]]\n",
      "29 day input [0.99733254 0.99309848 0.99208231 0.96570412 0.98611229 0.98645101\n",
      " 0.96866797 0.89977983 0.89279363 0.87310526 0.82280464 0.79066813\n",
      " 0.88817851 0.8990177  0.89647726 0.88017614 0.8432128  0.78931324\n",
      " 0.82466763 0.80256584 0.7550597  0.79706156 0.70882378 0.70259971\n",
      " 0.67037852 0.68240325 0.67812685 0.57934499 0.66059785 0.70530951\n",
      " 0.70713015 0.69523245 0.69375053 0.72326192 0.66495893 0.64984334\n",
      " 0.65217207 0.72588704 0.7622576  0.74392413 0.75535608 0.77072572\n",
      " 0.83233127 0.82420188 0.83210898 0.82680583 0.80451351 0.78575663\n",
      " 0.78850876 0.80480989 0.8101448  0.81662291 0.82208485 0.83834364\n",
      " 0.85892116 0.8778474  0.85536455 0.88631552 0.89579981 0.90397155\n",
      " 0.92590397 0.95427217 0.96544161 0.9496147  0.9235329  0.91553053\n",
      " 0.95194343 0.96049623 0.96473029 0.97053095 0.96350241 1.01890624\n",
      " 1.0308857  1.04549634 1.06188059 1.07850456 1.0945251  1.10992706\n",
      " 1.12516797 1.1408025  1.15724456 1.17467844 1.19306886 1.21221721\n",
      " 1.23184526 1.25167155 1.27147651 1.29113173 1.31061149 1.32996964\n",
      " 1.34930396 1.36872184 1.38830423 1.4080869  1.42805862 1.44816446\n",
      " 1.46832645 1.48845851 1.50848365 1.52834308]\n",
      "29 day output [[1.5479984]]\n",
      "[[1.0189062356948853], [1.0308856964111328], [1.0454963445663452], [1.0618805885314941], [1.0785045623779297], [1.0945250988006592], [1.1099270582199097], [1.125167965888977], [1.1408025026321411], [1.1572445631027222], [1.1746784448623657], [1.1930688619613647], [1.2122172117233276], [1.2318452596664429], [1.251671552658081], [1.2714765071868896], [1.2911317348480225], [1.3106114864349365], [1.3299696445465088], [1.349303960800171], [1.368721842765808], [1.3883042335510254], [1.408086895942688], [1.4280586242675781], [1.448164463043213], [1.468326449394226], [1.488458514213562], [1.508483648300171], [1.5283430814743042], [1.5479984283447266]]\n"
     ]
    }
   ],
   "source": [
    "# demonstrate prediction for next 30 days\n",
    "from numpy import array\n",
    "\n",
    "lst_output=[]\n",
    "n_steps=100\n",
    "i=0\n",
    "while(i<30):\n",
    "    \n",
    "    if(len(temp_input)>100):\n",
    "        #print(temp_input)\n",
    "        x_input=np.array(temp_input[1:])\n",
    "        print(\"{} day input {}\".format(i,x_input))\n",
    "        x_input=x_input.reshape(1,-1)\n",
    "        x_input = x_input.reshape((1, n_steps, 1))\n",
    "        #print(x_input)\n",
    "        yhat = model.predict(x_input, verbose=0)\n",
    "        print(\"{} day output {}\".format(i,yhat))\n",
    "        temp_input.extend(yhat[0].tolist())\n",
    "        temp_input=temp_input[1:]\n",
    "        #print(temp_input)\n",
    "        lst_output.extend(yhat.tolist())\n",
    "        i=i+1\n",
    "    else:\n",
    "        x_input = x_input.reshape((1, n_steps,1))\n",
    "        yhat = model.predict(x_input, verbose=0)\n",
    "        print(yhat[0])\n",
    "        temp_input.extend(yhat[0].tolist())\n",
    "        print(len(temp_input))\n",
    "        lst_output.extend(yhat.tolist())\n",
    "        i=i+1\n",
    "    \n",
    "\n",
    "print(lst_output)"
   ]
  },
  {
   "cell_type": "code",
   "execution_count": 81,
   "id": "c703cdc5",
   "metadata": {},
   "outputs": [],
   "source": [
    "day_new=np.arange(1,101)\n",
    "day_pred=np.arange(101,131)"
   ]
  },
  {
   "cell_type": "code",
   "execution_count": 82,
   "id": "df324738",
   "metadata": {},
   "outputs": [
    {
     "data": {
      "image/png": "[encoded data removed]",
      "text/plain": [
       "<Figure size 432x288 with 1 Axes>"
      ]
     },
     "metadata": {
      "needs_background": "light"
     },
     "output_type": "display_data"
    }
   ],
   "source": [
    "import matplotlib.pyplot as plt\n",
    "plt.plot(day_new,scaler.inverse_transform(df1[1158:]))\n",
    "plt.plot(day_pred,scaler.inverse_transform(lst_output))\n",
    "plt.savefig('30daypredict.png')"
   ]
  },
  {
   "cell_type": "code",
   "execution_count": 83,
   "id": "fbe97c0a",
   "metadata": {},
   "outputs": [
    {
     "data": {
      "text/plain": [
       "[<matplotlib.lines.Line2D at 0x7fdb46ca6898>]"
      ]
     },
     "execution_count": 83,
     "metadata": {},
     "output_type": "execute_result"
    },
    {
     "data": {
      "image/png": "[encoded data removed]",
      "text/plain": [
       "<Figure size 432x288 with 1 Axes>"
      ]
     },
     "metadata": {
      "needs_background": "light"
     },
     "output_type": "display_data"
    }
   ],
   "source": [
    "df3=df1.tolist()\n",
    "df3.extend(lst_output)\n",
    "plt.plot(df3[1200:])"
   ]
  },
  {
   "cell_type": "code",
   "execution_count": 84,
   "id": "c43ff460",
   "metadata": {},
   "outputs": [],
   "source": [
    "df3=scaler.inverse_transform(df3).tolist()\n"
   ]
  },
  {
   "cell_type": "code",
   "execution_count": 85,
   "id": "dc26ec88",
   "metadata": {},
   "outputs": [
    {
     "data": {
      "text/plain": [
       "[<matplotlib.lines.Line2D at 0x7fdb46c02208>]"
      ]
     },
     "execution_count": 85,
     "metadata": {},
     "output_type": "execute_result"
    },
    {
     "data": {
      "image/png": "[encoded data removed]",
      "text/plain": [
       "<Figure size 432x288 with 1 Axes>"
      ]
     },
     "metadata": {
      "needs_background": "light"
     },
     "output_type": "display_data"
    }
   ],
   "source": [
    "plt.plot(df3)\n"
   ]
  },
  {
   "cell_type": "code",
   "execution_count": null,
   "id": "fb19579c",
   "metadata": {},
   "outputs": [],
   "source": []
  }
 ],
 "metadata": {
  "kernelspec": {
   "display_name": "Python 3",
   "language": "python",
   "name": "python3"
  },
  "language_info": {
   "codemirror_mode": {
    "name": "ipython",
    "version": 3
   },
   "file_extension": ".py",
   "mimetype": "text/x-python",
   "name": "python",
   "nbconvert_exporter": "python",
   "pygments_lexer": "ipython3",
   "version": "3.6.8"
  }
 },
 "nbformat": 4,
 "nbformat_minor": 5
}
